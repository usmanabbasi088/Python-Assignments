{
 "cells": [
  {
   "cell_type": "markdown",
   "metadata": {},
   "source": [
    "# Python Assignment 03"
   ]
  },
  {
   "cell_type": "markdown",
   "metadata": {},
   "source": [
    "# Question No 01\n",
    "                     Write a python program to print string in following format"
   ]
  },
  {
   "cell_type": "code",
   "execution_count": 9,
   "metadata": {},
   "outputs": [
    {
     "name": "stdout",
     "output_type": "stream",
     "text": [
      "Twinkle twinkle little star,\n",
      "\tHow I wonder what you are!\n",
      "\t\tUp above the world so high,\n",
      "\t\tLike a diamond in the sky.\n",
      "Twinkle twinkle little star,\n",
      "\tHow I wonder what you are.\n"
     ]
    }
   ],
   "source": [
    "\n",
    "print(\"Twinkle twinkle little star,\\n\\tHow I wonder what you are!\\n\\t\\tUp above the world so high,\\n\\t\\tLike a diamond in the sky.\\nTwinkle twinkle little star,\\n\\tHow I wonder what you are.\")"
   ]
  },
  {
   "cell_type": "markdown",
   "metadata": {},
   "source": [
    "# Question No 02\n",
    "                  Write python program to get the python version you are using"
   ]
  },
  {
   "cell_type": "code",
   "execution_count": 11,
   "metadata": {},
   "outputs": [
    {
     "name": "stdout",
     "output_type": "stream",
     "text": [
      "I am using python Version :: 3.8.5\n"
     ]
    }
   ],
   "source": [
    "from platform import python_version\n",
    "print(\"I am using python Version :: \" + python_version())"
   ]
  },
  {
   "cell_type": "markdown",
   "metadata": {},
   "source": [
    "# Question No 03\n",
    "                    Accepts radius from the user and compute the area of the circle"
   ]
  },
  {
   "cell_type": "code",
   "execution_count": 13,
   "metadata": {},
   "outputs": [
    {
     "name": "stdout",
     "output_type": "stream",
     "text": [
      "Enter the radius of the Circle :: 5\n",
      "The Area of the Circle is ::  78.5\n"
     ]
    }
   ],
   "source": [
    "Radius = float(input(\"Enter the radius of the Circle :: \"))\n",
    "PI = 3.14\n",
    "area = PI * Radius * Radius \n",
    "print(\"The Area of the Circle is :: \",area)"
   ]
  },
  {
   "cell_type": "markdown",
   "metadata": {},
   "source": [
    "# Question No 04\n",
    "                    Display current data and time"
   ]
  },
  {
   "cell_type": "code",
   "execution_count": 19,
   "metadata": {},
   "outputs": [
    {
     "name": "stdout",
     "output_type": "stream",
     "text": [
      "Current Date and Time is :: \n",
      "2021-10-23  10:55:55\n"
     ]
    }
   ],
   "source": [
    "import datetime\n",
    "Current_data_time = datetime.datetime.now()\n",
    "print(\"Current Date and Time is :: \")\n",
    "print (Current_data_time.strftime(\"%Y-%m-%d  %H:%M:%S\"))"
   ]
  },
  {
   "cell_type": "markdown",
   "metadata": {},
   "source": [
    "# Question No 05\n",
    "                   Accept user first and last name and display in reverse order with space between them"
   ]
  },
  {
   "cell_type": "code",
   "execution_count": 21,
   "metadata": {},
   "outputs": [
    {
     "name": "stdout",
     "output_type": "stream",
     "text": [
      "Enter First Name :: Usman\n",
      "Enter Last Name :: Abbasi\n",
      "Name in reverse order :: \n",
      "Abbasi Usman\n"
     ]
    }
   ],
   "source": [
    "First_name = input (\"Enter First Name :: \")\n",
    "Last_name = input (\"Enter Last Name :: \")\n",
    "print(\"Name in reverse order :: \")\n",
    "print(Last_name + \" \" + First_name)"
   ]
  },
  {
   "cell_type": "markdown",
   "metadata": {},
   "source": [
    "# Question No 06\n",
    "                   Take two inputs from the user and print addition"
   ]
  },
  {
   "cell_type": "code",
   "execution_count": 25,
   "metadata": {},
   "outputs": [
    {
     "name": "stdout",
     "output_type": "stream",
     "text": [
      "Enter first Input :: 5\n",
      "Enter Second Input :: 5\n",
      "Addition is ::  10\n"
     ]
    }
   ],
   "source": [
    "First_input = int(input(\"Enter first Input :: \"))\n",
    "Second_input = int(input(\"Enter Second Input :: \"))\n",
    "print(\"Addition is :: \",First_input+Second_input)"
   ]
  },
  {
   "cell_type": "markdown",
   "metadata": {},
   "source": [
    "# Question No 07\n",
    "                    Generate Marks sheet of 5 subjects with grades"
   ]
  },
  {
   "cell_type": "code",
   "execution_count": 34,
   "metadata": {},
   "outputs": [
    {
     "name": "stdout",
     "output_type": "stream",
     "text": [
      "Enter Eng Marks :: 50\n",
      "Enter Urdu Marks :: 78\n",
      "Enter Isl Marks :: 87\n",
      "Enter Phycis Marks :: 90\n",
      "Enter Math Marks :: 12\n",
      "Percentage is  63.4\n",
      "Grade C\n"
     ]
    }
   ],
   "source": [
    "Eng_Marks = int(input(\"Enter Eng Marks :: \"))\n",
    "Urdu_Marks = int(input(\"Enter Urdu Marks :: \"))\n",
    "Isl_Marks = int(input(\"Enter Isl Marks :: \"))\n",
    "Phycis_Marks = int(input(\"Enter Phycis Marks :: \"))\n",
    "Math_Marks = int(input(\"Enter Math Marks :: \"))\n",
    "Total_Marks = 500\n",
    "Total_Obtain_Marks = Eng_Marks+Urdu_Marks+Isl_Marks+Phycis_Marks+Math_Marks\n",
    "Percentage = (Total_Obtain_Marks/Total_Marks) *100\n",
    "print(\"Percentage is \",Percentage)\n",
    "if Percentage>=80:\n",
    "    print(\"Grade A\")\n",
    "elif Percentage>=70:\n",
    "    print(\"Grade B\")\n",
    "elif Percentage>=60:\n",
    "    print(\"Grade C\")\n",
    "else:\n",
    "    print(\"Fail\")\n"
   ]
  },
  {
   "cell_type": "markdown",
   "metadata": {},
   "source": [
    "# Question No 08\n",
    "                   Take input from the user and identify that this number is even or odd."
   ]
  },
  {
   "cell_type": "code",
   "execution_count": 9,
   "metadata": {},
   "outputs": [
    {
     "name": "stdout",
     "output_type": "stream",
     "text": [
      "Enter Number :: 6\n",
      "6  is Even Number\n"
     ]
    }
   ],
   "source": [
    "Number = int(input(\"Enter Number :: \"))\n",
    "if Number%2==0:\n",
    "    print(Number,\" is Even Number\")\n",
    "else:\n",
    "    print(Number,\" is Odd Number\")\n"
   ]
  },
  {
   "cell_type": "markdown",
   "metadata": {},
   "source": [
    "# Question No 09\n",
    "                     Print length of the list"
   ]
  },
  {
   "cell_type": "code",
   "execution_count": 10,
   "metadata": {},
   "outputs": [
    {
     "name": "stdout",
     "output_type": "stream",
     "text": [
      "The length of the List Data is ::  7\n"
     ]
    }
   ],
   "source": [
    "Data = [33,44,6,4,345,76547,34323]\n",
    "print(\"The length of the List Data is :: \",len(Data))"
   ]
  },
  {
   "cell_type": "markdown",
   "metadata": {},
   "source": [
    "# Question No 10\n",
    "                     Write a program to sum all Numeric items in a list"
   ]
  },
  {
   "cell_type": "code",
   "execution_count": 13,
   "metadata": {},
   "outputs": [
    {
     "name": "stdout",
     "output_type": "stream",
     "text": [
      "The sum of Numeric items in list is ::  140\n"
     ]
    }
   ],
   "source": [
    "Data_list = [5,10,15,20,25,30,35]\n",
    "print(\"The sum of Numeric items in list is :: \",sum(Data_list))"
   ]
  },
  {
   "cell_type": "markdown",
   "metadata": {},
   "source": [
    "# Question No 11\n",
    "                 Program to get largest number from the list"
   ]
  },
  {
   "cell_type": "code",
   "execution_count": 19,
   "metadata": {},
   "outputs": [
    {
     "name": "stdout",
     "output_type": "stream",
     "text": [
      "The largest Number in list is ::  99\n"
     ]
    }
   ],
   "source": [
    "data_list = [43,45,56,12,34,56,99]\n",
    "print(\"The largest Number in list is :: \",max(data_list))"
   ]
  },
  {
   "cell_type": "markdown",
   "metadata": {},
   "source": [
    "# Question No 12\n",
    "                    Print numbers that are less than 5 in the following list\n",
    "                    [1,1,2,3,5,8,34,55,89]"
   ]
  },
  {
   "cell_type": "code",
   "execution_count": 28,
   "metadata": {},
   "outputs": [
    {
     "name": "stdout",
     "output_type": "stream",
     "text": [
      "Following numbers are less than 5 in list :: \n",
      "1\n",
      "1\n",
      "2\n",
      "3\n"
     ]
    }
   ],
   "source": [
    "data =  [1,1,2,3,5,8,34,55,89]\n",
    "print(\"Following numbers are less than 5 in list :: \")\n",
    "for number in data:\n",
    "    if (number<5):\n",
    "        print(number)"
   ]
  },
  {
   "cell_type": "code",
   "execution_count": null,
   "metadata": {},
   "outputs": [],
   "source": []
  }
 ],
 "metadata": {
  "kernelspec": {
   "display_name": "Python 3",
   "language": "python",
   "name": "python3"
  },
  "language_info": {
   "codemirror_mode": {
    "name": "ipython",
    "version": 3
   },
   "file_extension": ".py",
   "mimetype": "text/x-python",
   "name": "python",
   "nbconvert_exporter": "python",
   "pygments_lexer": "ipython3",
   "version": "3.8.5"
  }
 },
 "nbformat": 4,
 "nbformat_minor": 4
}
