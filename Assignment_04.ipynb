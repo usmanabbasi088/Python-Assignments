{
 "cells": [
  {
   "cell_type": "markdown",
   "metadata": {},
   "source": [
    "# Calculator Using Python"
   ]
  },
  {
   "cell_type": "code",
   "execution_count": 1,
   "metadata": {},
   "outputs": [
    {
     "name": "stdout",
     "output_type": "stream",
     "text": [
      "Please select operation -\n",
      "Select 1 for Add\n",
      "Select 2 for Subtract\n",
      "Select 3 for Multiply\n",
      "Select 4 for Divide\n",
      "Select 5 for Power\n",
      "\n",
      "Select operations form 1, 2, 3, 4,5 :3\n",
      "Enter first number: 5\n",
      "Enter second number: 7\n",
      "5 * 7 = 35\n"
     ]
    }
   ],
   "source": [
    "# Python program for simple calculator\n",
    "  \n",
    "# Function to add two numbers \n",
    "def add(num1, num2):\n",
    "    return num1 + num2\n",
    "  \n",
    "# Function to subtract two numbers \n",
    "def subtract(num1, num2):\n",
    "    return num1 - num2\n",
    "  \n",
    "# Function to multiply two numbers\n",
    "def multiply(num1, num2):\n",
    "    return num1 * num2\n",
    "  \n",
    "# Function to divide two numbers\n",
    "def divide(num1, num2):\n",
    "    return num1 / num2\n",
    "# Function to calculate power\n",
    "def power(num1):\n",
    "    return num1 * num1\n",
    "  \n",
    "print(\"Please select operation -\\n\" \n",
    "      \"Select 1 for Add\\n\" \n",
    "        \"Select 2 for Subtract\\n\" \n",
    "      \"Select 3 for Multiply\\n\" \n",
    "        \"Select 4 for Divide\\n\" \n",
    "      \"Select 5 for Power\\n\" ) \n",
    "# Take input from the user \n",
    "select = int(input(\"Select operations form 1, 2, 3, 4,5 :\"))  \n",
    "number_1 = int(input(\"Enter first number: \"))\n",
    "number_2 = int(input(\"Enter second number: \"))\n",
    "if select == 1:\n",
    "    print(number_1, \"+\", number_2, \"=\",add(number_1, number_2))\n",
    "elif select == 2:\n",
    "        print(number_1, \"-\", number_2, \"=\",\n",
    "                    subtract(number_1, number_2))\n",
    "elif select == 3:\n",
    "        print(number_1, \"*\", number_2, \"=\",\n",
    "                    multiply(number_1, number_2))\n",
    "elif select == 4:\n",
    "        print(number_1, \"/\", number_2, \"=\",\n",
    "                    divide(number_1, number_2))\n",
    "elif select == 5:\n",
    "        print(number_1, \"^\", number_1, \"=\",\n",
    "                    power(number_1))        \n",
    "else:\n",
    "    print(\"Invalid input\")"
   ]
  },
  {
   "cell_type": "markdown",
   "metadata": {},
   "source": [
    "Program to check if there is any numeric value in the list using for loop"
   ]
  },
  {
   "cell_type": "code",
   "execution_count": 2,
   "metadata": {},
   "outputs": [
    {
     "name": "stdout",
     "output_type": "stream",
     "text": [
      "Numeric numbers in list are\n",
      "1\n",
      "2\n",
      "3\n"
     ]
    }
   ],
   "source": [
    "List = ['orange',1,'banana',2,'grapes',3]\n",
    "print(\"Numeric numbers in list are\")\n",
    "for i in List:\n",
    "    if type(i)==int:\n",
    "        print(i)"
   ]
  },
  {
   "cell_type": "markdown",
   "metadata": {},
   "source": [
    "Write a python script to add a Key to a dictionary"
   ]
  },
  {
   "cell_type": "code",
   "execution_count": 3,
   "metadata": {},
   "outputs": [
    {
     "name": "stdout",
     "output_type": "stream",
     "text": [
      "The dictionary is  {0: 10, 1: 20, 2: 30}\n",
      "After adding a key dictionary becomes {0: 10, 1: 20, 2: 30, 3: 40}\n"
     ]
    }
   ],
   "source": [
    "dicct = {0:10, 1:20,2:30}\n",
    "print(\"The dictionary is \",dicct)\n",
    "dicct.update({3:40})\n",
    "print(\"After adding a key dictionary becomes\",dicct)"
   ]
  },
  {
   "cell_type": "markdown",
   "metadata": {},
   "source": [
    "Write a program to sum all numeric value in a dictionary"
   ]
  },
  {
   "cell_type": "code",
   "execution_count": 4,
   "metadata": {},
   "outputs": [
    {
     "name": "stdout",
     "output_type": "stream",
     "text": [
      "The sum of all numeric values is ::  60\n"
     ]
    }
   ],
   "source": [
    "dicct = {0:10, 1:20,2:30}\n",
    "print(\"The sum of all numeric values is :: \",sum(dicct.values()))\n",
    "        \n",
    "        "
   ]
  },
  {
   "cell_type": "markdown",
   "metadata": {},
   "source": [
    "Write a program to identify duplicate values in a list"
   ]
  },
  {
   "cell_type": "code",
   "execution_count": 6,
   "metadata": {},
   "outputs": [
    {
     "name": "stdout",
     "output_type": "stream",
     "text": [
      "True\n",
      "Yes, list contains duplicates\n"
     ]
    }
   ],
   "source": [
    "def duplicates(listOfElems):\n",
    "    ''' Check if given list contains any duplicates '''\n",
    "    if len(listOfElems) == len(set(listOfElems)):\n",
    "        return False\n",
    "    else:\n",
    "        return True\n",
    "\n",
    "\n",
    "listOfElems = ['Hello', 'Ok', 'is', 'Ok', 'test', 'this', 'is', 'a', 'test']\n",
    "\n",
    "result = duplicates(listOfElems)\n",
    "\n",
    "if result:\n",
    "    \n",
    "    print('Yes, list contains duplicates')\n",
    "else:\n",
    "    print('No duplicates found in list')"
   ]
  },
  {
   "cell_type": "markdown",
   "metadata": {},
   "source": [
    "check if the key is already present in dictionary"
   ]
  },
  {
   "cell_type": "code",
   "execution_count": 7,
   "metadata": {},
   "outputs": [
    {
     "name": "stdout",
     "output_type": "stream",
     "text": [
      "2  is already present in dictionary\n",
      "0  is already present in dictionary\n",
      "3  is not present in dictionary\n"
     ]
    }
   ],
   "source": [
    "dicct = {0:10, 1:20,2:30}\n",
    "def key_present(x):\n",
    "    if x in dicct:\n",
    "        print(x,\" is already present in dictionary\")\n",
    "    else:\n",
    "        print(x,\" is not present in dictionary\")\n",
    "key_present(2)\n",
    "key_present(0)\n",
    "key_present(3)\n",
    "        "
   ]
  },
  {
   "cell_type": "code",
   "execution_count": null,
   "metadata": {},
   "outputs": [],
   "source": []
  }
 ],
 "metadata": {
  "kernelspec": {
   "display_name": "Python 3",
   "language": "python",
   "name": "python3"
  },
  "language_info": {
   "codemirror_mode": {
    "name": "ipython",
    "version": 3
   },
   "file_extension": ".py",
   "mimetype": "text/x-python",
   "name": "python",
   "nbconvert_exporter": "python",
   "pygments_lexer": "ipython3",
   "version": "3.8.5"
  }
 },
 "nbformat": 4,
 "nbformat_minor": 4
}
